{
  "nbformat": 4,
  "nbformat_minor": 0,
  "metadata": {
    "colab": {
      "provenance": [],
      "authorship_tag": "ABX9TyMnDdUfUsVRjFJuY3Q9jtvk",
      "include_colab_link": true
    },
    "kernelspec": {
      "name": "python3",
      "display_name": "Python 3"
    },
    "language_info": {
      "name": "python"
    }
  },
  "cells": [
    {
      "cell_type": "markdown",
      "metadata": {
        "id": "view-in-github",
        "colab_type": "text"
      },
      "source": [
        "<a href=\"https://colab.research.google.com/github/Vikasgarikapati/CNS-lab/blob/main/elgamalencryptionalgo.ipynb\" target=\"_parent\"><img src=\"https://colab.research.google.com/assets/colab-badge.svg\" alt=\"Open In Colab\"/></a>"
      ]
    },
    {
      "cell_type": "code",
      "execution_count": 3,
      "metadata": {
        "colab": {
          "base_uri": "https://localhost:8080/"
        },
        "id": "2678TypB4A7_",
        "outputId": "ecf28197-4f2f-419a-bf86-cdfdfe872c4e"
      },
      "outputs": [
        {
          "output_type": "stream",
          "name": "stdout",
          "text": [
            "Original Message : encryption\n",
            "g used :  816348642137431754321329811013620331046840928885\n",
            "g^a used :  51678357664294328077943414930822191718483548781795\n",
            "g^k used :  8272537190879397143137181183023359036644475143625\n",
            "g^ak used :  38811184188605616061342274389720855640341435232085\n",
            "Decrypted Message : encryption\n"
          ]
        }
      ],
      "source": [
        "\n",
        " \n",
        "import random\n",
        "from math import pow\n",
        " \n",
        "a = random.randint(2, 10)\n",
        " \n",
        "def gcd(a, b):\n",
        "    if a < b:\n",
        "        return gcd(b, a)\n",
        "    elif a % b == 0:\n",
        "        return b;\n",
        "    else:\n",
        "        return gcd(b, a % b)\n",
        " \n",
        "\n",
        "def gen_key(q):\n",
        " \n",
        "    key = random.randint(pow(10, 20), q)\n",
        "    while gcd(q, key) != 1:\n",
        "        key = random.randint(pow(10, 20), q)\n",
        " \n",
        "    return key\n",
        " \n",
        "def power(a, b, c):\n",
        "    x = 1\n",
        "    y = a\n",
        " \n",
        "    while b > 0:\n",
        "        if b % 2 != 0:\n",
        "            x = (x * y) % c;\n",
        "        y = (y * y) % c\n",
        "        b = int(b / 2)\n",
        " \n",
        "    return x % c\n",
        " \n",
        "def encrypt(msg, q, h, g):\n",
        " \n",
        "    en_msg = []\n",
        " \n",
        "    k = gen_key(q)\n",
        "    s = power(h, k, q)\n",
        "    p = power(g, k, q)\n",
        "     \n",
        "    for i in range(0, len(msg)):\n",
        "        en_msg.append(msg[i])\n",
        " \n",
        "    print(\"g^k used : \", p)\n",
        "    print(\"g^ak used : \", s)\n",
        "    for i in range(0, len(en_msg)):\n",
        "        en_msg[i] = s * ord(en_msg[i])\n",
        " \n",
        "    return en_msg, p\n",
        " \n",
        "def decrypt(en_msg, p, key, q):\n",
        " \n",
        "    dr_msg = []\n",
        "    h = power(p, key, q)\n",
        "    for i in range(0, len(en_msg)):\n",
        "        dr_msg.append(chr(int(en_msg[i]/h)))\n",
        "         \n",
        "    return dr_msg\n",
        "\n",
        "def main():\n",
        " \n",
        "    msg = 'encryption'\n",
        "    print(\"Original Message :\", msg)\n",
        " \n",
        "    q = random.randint(pow(10, 20), pow(10, 50))\n",
        "    g = random.randint(2, q)\n",
        " \n",
        "    key = gen_key(q)\n",
        "    h = power(g, key, q)\n",
        "    print(\"g used : \", g)\n",
        "    print(\"g^a used : \", h)\n",
        " \n",
        "    en_msg, p = encrypt(msg, q, h, g)\n",
        "    dr_msg = decrypt(en_msg, p, key, q)\n",
        "    dmsg = ''.join(dr_msg)\n",
        "    print(\"Decrypted Message :\", dmsg);\n",
        " \n",
        " \n",
        "if __name__ == '__main__':\n",
        "    main()"
      ]
    },
    {
      "cell_type": "code",
      "source": [],
      "metadata": {
        "id": "G_DwyV8f4nrH"
      },
      "execution_count": null,
      "outputs": []
    }
  ]
}