{
  "nbformat": 4,
  "nbformat_minor": 0,
  "metadata": {
    "colab": {
      "provenance": [],
      "authorship_tag": "ABX9TyNUWanVKXCqpWzEqtk6lV8i",
      "include_colab_link": true
    },
    "kernelspec": {
      "name": "python3",
      "display_name": "Python 3"
    },
    "language_info": {
      "name": "python"
    }
  },
  "cells": [
    {
      "cell_type": "markdown",
      "metadata": {
        "id": "view-in-github",
        "colab_type": "text"
      },
      "source": [
        "<a href=\"https://colab.research.google.com/github/Vikasgarikapati/CNS-lab/blob/main/AES.ipynb\" target=\"_parent\"><img src=\"https://colab.research.google.com/assets/colab-badge.svg\" alt=\"Open In Colab\"/></a>"
      ]
    },
    {
      "cell_type": "code",
      "execution_count": 1,
      "metadata": {
        "colab": {
          "base_uri": "https://localhost:8080/"
        },
        "id": "IAcWFCdSRmUO",
        "outputId": "e9069e9a-7415-4614-e673-8e94781cf9d2"
      },
      "outputs": [
        {
          "output_type": "stream",
          "name": "stdout",
          "text": [
            "Looking in indexes: https://pypi.org/simple, https://us-python.pkg.dev/colab-wheels/public/simple/\n",
            "Collecting pycrypto\n",
            "  Downloading pycrypto-2.6.1.tar.gz (446 kB)\n",
            "\u001b[K     |████████████████████████████████| 446 kB 5.2 MB/s \n",
            "\u001b[?25hBuilding wheels for collected packages: pycrypto\n",
            "  Building wheel for pycrypto (setup.py) ... \u001b[?25l\u001b[?25hdone\n",
            "  Created wheel for pycrypto: filename=pycrypto-2.6.1-cp37-cp37m-linux_x86_64.whl size=499932 sha256=243b7018a5c64d7b4f9f036e6b28f306595944cd0f00b4ad05c9cd921db49bbe\n",
            "  Stored in directory: /root/.cache/pip/wheels/cf/85/ba/bbd7c96add459de7598fb424e5ff2309baf2095c844ac0f191\n",
            "Successfully built pycrypto\n",
            "Installing collected packages: pycrypto\n",
            "Successfully installed pycrypto-2.6.1\n"
          ]
        }
      ],
      "source": [
        "pip install pycrypto"
      ]
    },
    {
      "cell_type": "code",
      "source": [
        "import hashlib\n",
        "from Crypto import Random\n",
        "from Crypto.Cipher import AES\n",
        "from base64 import b64encode, b64decode"
      ],
      "metadata": {
        "id": "sCbR2ZgjXEV0"
      },
      "execution_count": 2,
      "outputs": []
    },
    {
      "cell_type": "code",
      "source": [
        "class AESCipher(object):\n",
        "    def __init__(self, key):\n",
        "        self.block_size = AES.block_size\n",
        "        self.key = hashlib.sha256(key.encode()).digest()"
      ],
      "metadata": {
        "id": "JwAPuGgJXHY4"
      },
      "execution_count": 3,
      "outputs": []
    },
    {
      "cell_type": "code",
      "source": [
        "    def __pad(self, plain_text):\n",
        "        number_of_bytes_to_pad = self.block_size - len(plain_text) % self.block_size\n",
        "        ascii_string = chr(number_of_bytes_to_pad)\n",
        "        padding_str = number_of_bytes_to_pad * ascii_string\n",
        "        padded_plain_text = plain_text + padding_str\n",
        "        return padded_plain_text"
      ],
      "metadata": {
        "id": "c-crKHSGXLgT"
      },
      "execution_count": 4,
      "outputs": []
    },
    {
      "cell_type": "code",
      "source": [
        "    @staticmethod\n",
        "    def __unpad(plain_text):\n",
        "        last_character = plain_text[len(plain_text) - 1:]\n",
        "        bytes_to_remove = ord(last_character)\n",
        "        return plain_text[:-bytes_to_remove]"
      ],
      "metadata": {
        "id": "PPdibW3jXYHB"
      },
      "execution_count": 5,
      "outputs": []
    },
    {
      "cell_type": "code",
      "source": [
        "    def encrypt(self, plain_text):\n",
        "        plain_text = self.__pad(plain_text)\n",
        "        iv = Random.new().read(self.block_size)\n",
        "        cipher = AES.new(self.key, AES.MODE_CBC, iv)\n",
        "        encrypted_text = cipher.encrypt(plain_text.encode())\n",
        "        return b64encode(iv + encrypted_text).decode(\"utf-8\")"
      ],
      "metadata": {
        "id": "Wt9WVEhBXb2b"
      },
      "execution_count": 6,
      "outputs": []
    },
    {
      "cell_type": "code",
      "source": [
        "    def decrypt(self, encrypted_text):\n",
        "        encrypted_text = b64decode(encrypted_text)\n",
        "        iv = encrypted_text[:self.block_size]\n",
        "        cipher = AES.new(self.key, AES.MODE_CBC, iv)\n",
        "        plain_text = cipher.decrypt(encrypted_text[self.block_size:]).decode(\"utf-8\")\n",
        "        return self.__unpad(plain_text)"
      ],
      "metadata": {
        "id": "tt58Re7sXe_N"
      },
      "execution_count": 7,
      "outputs": []
    }
  ]
}